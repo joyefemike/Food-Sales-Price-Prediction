{
 "cells": [
  {
   "attachments": {},
   "cell_type": "markdown",
   "id": "d077080b",
   "metadata": {},
   "source": [
    "# Project Introduction: Regression Model for Sales Prediction\n",
    "\n",
    "In this project, we aim to build a robust regression model to predict **Total Sales** using historical food sales data 'Sample data food slaes.xlsx'. The dataset contains transactional records including region, city, product category, quantity, unit price, and order dates.\n",
    "\n",
    "The primary goals of this project include:\n",
    "\n",
    "- Exploring and understanding the dataset through visual and statistical methods.\n",
    "- Cleaning and preparing the data with essential feature engineering.\n",
    "- Building a predictive model to estimate total sales using Linear Regression.\n",
    "- Evaluating the model's performance using metrics like R² Score, MAE, AbsCoefficient, Residuals/performance errors and RMSE etc.\n",
    "- Exporting insights and predictions for visualization in tools like Excel and Power BI.\n",
    "\n",
    "This end-to-end process demonstrates a complete machine learning pipeline—from raw data ingestion to model development and real world deployment integration helping stakeholders make informed, data-driven decisions to optimize sales performance."
   ]
  },
  {
   "cell_type": "markdown",
   "id": "8fe76d72",
   "metadata": {},
   "source": [
    "## Loading libraries and dataset"
   ]
  },
  {
   "cell_type": "code",
   "execution_count": 1,
   "id": "a4954ace",
   "metadata": {},
   "outputs": [],
   "source": [
    "#importing libraries\n",
    "\n",
    "import pandas as pd\n",
    "import  numpy as np\n",
    "import matplotlib.pyplot as plt\n",
    "import seaborn as sns"
   ]
  },
  {
   "cell_type": "code",
   "execution_count": 2,
   "id": "98a1cc99",
   "metadata": {},
   "outputs": [
    {
     "data": {
      "text/html": [
       "<div>\n",
       "<style scoped>\n",
       "    .dataframe tbody tr th:only-of-type {\n",
       "        vertical-align: middle;\n",
       "    }\n",
       "\n",
       "    .dataframe tbody tr th {\n",
       "        vertical-align: top;\n",
       "    }\n",
       "\n",
       "    .dataframe thead th {\n",
       "        text-align: right;\n",
       "    }\n",
       "</style>\n",
       "<table border=\"1\" class=\"dataframe\">\n",
       "  <thead>\n",
       "    <tr style=\"text-align: right;\">\n",
       "      <th></th>\n",
       "      <th>OrderDate</th>\n",
       "      <th>Region</th>\n",
       "      <th>City</th>\n",
       "      <th>Category</th>\n",
       "      <th>Product</th>\n",
       "      <th>Quantity</th>\n",
       "      <th>UnitPrice</th>\n",
       "    </tr>\n",
       "  </thead>\n",
       "  <tbody>\n",
       "    <tr>\n",
       "      <th>0</th>\n",
       "      <td>2020-01-01</td>\n",
       "      <td>East</td>\n",
       "      <td>Boston</td>\n",
       "      <td>Bars</td>\n",
       "      <td>Carrot</td>\n",
       "      <td>33</td>\n",
       "      <td>1.77</td>\n",
       "    </tr>\n",
       "    <tr>\n",
       "      <th>1</th>\n",
       "      <td>2020-01-04</td>\n",
       "      <td>East</td>\n",
       "      <td>Boston</td>\n",
       "      <td>Crackers</td>\n",
       "      <td>Whole Wheat</td>\n",
       "      <td>87</td>\n",
       "      <td>3.49</td>\n",
       "    </tr>\n",
       "    <tr>\n",
       "      <th>2</th>\n",
       "      <td>2020-01-07</td>\n",
       "      <td>West</td>\n",
       "      <td>Los Angeles</td>\n",
       "      <td>Cookies</td>\n",
       "      <td>Chocolate Chip</td>\n",
       "      <td>58</td>\n",
       "      <td>1.87</td>\n",
       "    </tr>\n",
       "    <tr>\n",
       "      <th>3</th>\n",
       "      <td>2020-01-10</td>\n",
       "      <td>East</td>\n",
       "      <td>New York</td>\n",
       "      <td>Cookies</td>\n",
       "      <td>Chocolate Chip</td>\n",
       "      <td>82</td>\n",
       "      <td>1.87</td>\n",
       "    </tr>\n",
       "    <tr>\n",
       "      <th>4</th>\n",
       "      <td>2020-01-13</td>\n",
       "      <td>East</td>\n",
       "      <td>Boston</td>\n",
       "      <td>Cookies</td>\n",
       "      <td>Arrowroot</td>\n",
       "      <td>38</td>\n",
       "      <td>2.18</td>\n",
       "    </tr>\n",
       "    <tr>\n",
       "      <th>...</th>\n",
       "      <td>...</td>\n",
       "      <td>...</td>\n",
       "      <td>...</td>\n",
       "      <td>...</td>\n",
       "      <td>...</td>\n",
       "      <td>...</td>\n",
       "      <td>...</td>\n",
       "    </tr>\n",
       "    <tr>\n",
       "      <th>239</th>\n",
       "      <td>2021-12-18</td>\n",
       "      <td>East</td>\n",
       "      <td>Boston</td>\n",
       "      <td>Cookies</td>\n",
       "      <td>Arrowroot</td>\n",
       "      <td>34</td>\n",
       "      <td>2.18</td>\n",
       "    </tr>\n",
       "    <tr>\n",
       "      <th>240</th>\n",
       "      <td>2021-12-21</td>\n",
       "      <td>East</td>\n",
       "      <td>Boston</td>\n",
       "      <td>Cookies</td>\n",
       "      <td>Chocolate Chip</td>\n",
       "      <td>245</td>\n",
       "      <td>1.87</td>\n",
       "    </tr>\n",
       "    <tr>\n",
       "      <th>241</th>\n",
       "      <td>2021-12-24</td>\n",
       "      <td>East</td>\n",
       "      <td>Boston</td>\n",
       "      <td>Crackers</td>\n",
       "      <td>Whole Wheat</td>\n",
       "      <td>30</td>\n",
       "      <td>3.49</td>\n",
       "    </tr>\n",
       "    <tr>\n",
       "      <th>242</th>\n",
       "      <td>2021-12-27</td>\n",
       "      <td>West</td>\n",
       "      <td>Los Angeles</td>\n",
       "      <td>Bars</td>\n",
       "      <td>Bran</td>\n",
       "      <td>30</td>\n",
       "      <td>1.87</td>\n",
       "    </tr>\n",
       "    <tr>\n",
       "      <th>243</th>\n",
       "      <td>2021-12-30</td>\n",
       "      <td>West</td>\n",
       "      <td>Los Angeles</td>\n",
       "      <td>Cookies</td>\n",
       "      <td>Oatmeal Raisin</td>\n",
       "      <td>44</td>\n",
       "      <td>2.84</td>\n",
       "    </tr>\n",
       "  </tbody>\n",
       "</table>\n",
       "<p>244 rows × 7 columns</p>\n",
       "</div>"
      ],
      "text/plain": [
       "     OrderDate Region         City  Category         Product  Quantity  \\\n",
       "0   2020-01-01   East       Boston      Bars          Carrot        33   \n",
       "1   2020-01-04   East       Boston  Crackers     Whole Wheat        87   \n",
       "2   2020-01-07   West  Los Angeles   Cookies  Chocolate Chip        58   \n",
       "3   2020-01-10   East     New York   Cookies  Chocolate Chip        82   \n",
       "4   2020-01-13   East       Boston   Cookies       Arrowroot        38   \n",
       "..         ...    ...          ...       ...             ...       ...   \n",
       "239 2021-12-18   East       Boston   Cookies       Arrowroot        34   \n",
       "240 2021-12-21   East       Boston   Cookies  Chocolate Chip       245   \n",
       "241 2021-12-24   East       Boston  Crackers     Whole Wheat        30   \n",
       "242 2021-12-27   West  Los Angeles      Bars            Bran        30   \n",
       "243 2021-12-30   West  Los Angeles   Cookies  Oatmeal Raisin        44   \n",
       "\n",
       "     UnitPrice  \n",
       "0         1.77  \n",
       "1         3.49  \n",
       "2         1.87  \n",
       "3         1.87  \n",
       "4         2.18  \n",
       "..         ...  \n",
       "239       2.18  \n",
       "240       1.87  \n",
       "241       3.49  \n",
       "242       1.87  \n",
       "243       2.84  \n",
       "\n",
       "[244 rows x 7 columns]"
      ]
     },
     "execution_count": 2,
     "metadata": {},
     "output_type": "execute_result"
    }
   ],
   "source": [
    "# Load the relevant sheet 'FoodSales' into a dataframe\n",
    "\n",
    "df = pd.read_excel(\"C:/Users/DELL/OneDrive/Documents/Sample data food slaes.xlsx\", sheet_name = 'FoodSales')\n",
    "df"
   ]
  },
  {
   "cell_type": "markdown",
   "id": "397e000a",
   "metadata": {},
   "source": [
    "## inspecting the dataset"
   ]
  },
  {
   "cell_type": "code",
   "execution_count": 3,
   "id": "0fa92c13",
   "metadata": {},
   "outputs": [
    {
     "data": {
      "text/plain": [
       "<bound method DataFrame.info of      OrderDate Region         City  Category         Product  Quantity  \\\n",
       "0   2020-01-01   East       Boston      Bars          Carrot        33   \n",
       "1   2020-01-04   East       Boston  Crackers     Whole Wheat        87   \n",
       "2   2020-01-07   West  Los Angeles   Cookies  Chocolate Chip        58   \n",
       "3   2020-01-10   East     New York   Cookies  Chocolate Chip        82   \n",
       "4   2020-01-13   East       Boston   Cookies       Arrowroot        38   \n",
       "..         ...    ...          ...       ...             ...       ...   \n",
       "239 2021-12-18   East       Boston   Cookies       Arrowroot        34   \n",
       "240 2021-12-21   East       Boston   Cookies  Chocolate Chip       245   \n",
       "241 2021-12-24   East       Boston  Crackers     Whole Wheat        30   \n",
       "242 2021-12-27   West  Los Angeles      Bars            Bran        30   \n",
       "243 2021-12-30   West  Los Angeles   Cookies  Oatmeal Raisin        44   \n",
       "\n",
       "     UnitPrice  \n",
       "0         1.77  \n",
       "1         3.49  \n",
       "2         1.87  \n",
       "3         1.87  \n",
       "4         2.18  \n",
       "..         ...  \n",
       "239       2.18  \n",
       "240       1.87  \n",
       "241       3.49  \n",
       "242       1.87  \n",
       "243       2.84  \n",
       "\n",
       "[244 rows x 7 columns]>"
      ]
     },
     "execution_count": 3,
     "metadata": {},
     "output_type": "execute_result"
    }
   ],
   "source": [
    "# display basic info\n",
    "\n",
    "df.info"
   ]
  },
  {
   "cell_type": "code",
   "execution_count": 4,
   "id": "9b1ecb33",
   "metadata": {},
   "outputs": [
    {
     "data": {
      "text/plain": [
       "OrderDate    datetime64[ns]\n",
       "Region               object\n",
       "City                 object\n",
       "Category             object\n",
       "Product              object\n",
       "Quantity              int64\n",
       "UnitPrice           float64\n",
       "dtype: object"
      ]
     },
     "execution_count": 4,
     "metadata": {},
     "output_type": "execute_result"
    }
   ],
   "source": [
    "# Check data types of all columns\n",
    "\n",
    "df.dtypes"
   ]
  },
  {
   "cell_type": "code",
   "execution_count": 5,
   "id": "a25be673",
   "metadata": {},
   "outputs": [
    {
     "data": {
      "text/plain": [
       "OrderDate    0\n",
       "Region       0\n",
       "City         0\n",
       "Category     0\n",
       "Product      0\n",
       "Quantity     0\n",
       "UnitPrice    0\n",
       "dtype: int64"
      ]
     },
     "execution_count": 5,
     "metadata": {},
     "output_type": "execute_result"
    }
   ],
   "source": [
    "#check for missing values\n",
    "\n",
    "df.isnull().sum()"
   ]
  },
  {
   "cell_type": "code",
   "execution_count": 6,
   "id": "d0072723",
   "metadata": {},
   "outputs": [
    {
     "data": {
      "text/plain": [
       "0"
      ]
     },
     "execution_count": 6,
     "metadata": {},
     "output_type": "execute_result"
    }
   ],
   "source": [
    "# check for duplicates\n",
    "\n",
    "df.duplicated().sum()"
   ]
  },
  {
   "cell_type": "code",
   "execution_count": 7,
   "id": "65ee97ab",
   "metadata": {},
   "outputs": [
    {
     "data": {
      "text/html": [
       "<div>\n",
       "<style scoped>\n",
       "    .dataframe tbody tr th:only-of-type {\n",
       "        vertical-align: middle;\n",
       "    }\n",
       "\n",
       "    .dataframe tbody tr th {\n",
       "        vertical-align: top;\n",
       "    }\n",
       "\n",
       "    .dataframe thead th {\n",
       "        text-align: right;\n",
       "    }\n",
       "</style>\n",
       "<table border=\"1\" class=\"dataframe\">\n",
       "  <thead>\n",
       "    <tr style=\"text-align: right;\">\n",
       "      <th></th>\n",
       "      <th>Quantity</th>\n",
       "      <th>UnitPrice</th>\n",
       "    </tr>\n",
       "  </thead>\n",
       "  <tbody>\n",
       "    <tr>\n",
       "      <th>count</th>\n",
       "      <td>244.000000</td>\n",
       "      <td>244.000000</td>\n",
       "    </tr>\n",
       "    <tr>\n",
       "      <th>mean</th>\n",
       "      <td>63.286885</td>\n",
       "      <td>2.200820</td>\n",
       "    </tr>\n",
       "    <tr>\n",
       "      <th>std</th>\n",
       "      <td>47.112505</td>\n",
       "      <td>0.600169</td>\n",
       "    </tr>\n",
       "    <tr>\n",
       "      <th>min</th>\n",
       "      <td>20.000000</td>\n",
       "      <td>1.350000</td>\n",
       "    </tr>\n",
       "    <tr>\n",
       "      <th>25%</th>\n",
       "      <td>31.000000</td>\n",
       "      <td>1.770000</td>\n",
       "    </tr>\n",
       "    <tr>\n",
       "      <th>50%</th>\n",
       "      <td>47.000000</td>\n",
       "      <td>1.870000</td>\n",
       "    </tr>\n",
       "    <tr>\n",
       "      <th>75%</th>\n",
       "      <td>80.000000</td>\n",
       "      <td>2.840000</td>\n",
       "    </tr>\n",
       "    <tr>\n",
       "      <th>max</th>\n",
       "      <td>306.000000</td>\n",
       "      <td>3.490000</td>\n",
       "    </tr>\n",
       "  </tbody>\n",
       "</table>\n",
       "</div>"
      ],
      "text/plain": [
       "         Quantity   UnitPrice\n",
       "count  244.000000  244.000000\n",
       "mean    63.286885    2.200820\n",
       "std     47.112505    0.600169\n",
       "min     20.000000    1.350000\n",
       "25%     31.000000    1.770000\n",
       "50%     47.000000    1.870000\n",
       "75%     80.000000    2.840000\n",
       "max    306.000000    3.490000"
      ]
     },
     "execution_count": 7,
     "metadata": {},
     "output_type": "execute_result"
    }
   ],
   "source": [
    "# summary statistics\n",
    "\n",
    "df.describe()"
   ]
  },
  {
   "cell_type": "markdown",
   "id": "4e0b7a89",
   "metadata": {},
   "source": [
    "## Creating new features"
   ]
  },
  {
   "cell_type": "code",
   "execution_count": 8,
   "id": "70a28bd9",
   "metadata": {},
   "outputs": [],
   "source": [
    "# creating Total sales column\n",
    "df['Total_sales'] = df['Quantity'] * df['UnitPrice']"
   ]
  },
  {
   "cell_type": "code",
   "execution_count": 9,
   "id": "fb7c860b",
   "metadata": {},
   "outputs": [
    {
     "data": {
      "text/plain": [
       "OrderDate      datetime64[ns]\n",
       "Region                 object\n",
       "City                   object\n",
       "Category               object\n",
       "Product                object\n",
       "Quantity                int64\n",
       "UnitPrice             float64\n",
       "Total_sales           float64\n",
       "dtype: object"
      ]
     },
     "execution_count": 9,
     "metadata": {},
     "output_type": "execute_result"
    }
   ],
   "source": [
    "# convert OrderDate to Datetime\n",
    "df['OrderDate'] = pd.to_datetime(df['OrderDate'])\n",
    "df.dtypes"
   ]
  },
  {
   "cell_type": "code",
   "execution_count": 10,
   "id": "f31dab9e",
   "metadata": {},
   "outputs": [
    {
     "data": {
      "text/html": [
       "<div>\n",
       "<style scoped>\n",
       "    .dataframe tbody tr th:only-of-type {\n",
       "        vertical-align: middle;\n",
       "    }\n",
       "\n",
       "    .dataframe tbody tr th {\n",
       "        vertical-align: top;\n",
       "    }\n",
       "\n",
       "    .dataframe thead th {\n",
       "        text-align: right;\n",
       "    }\n",
       "</style>\n",
       "<table border=\"1\" class=\"dataframe\">\n",
       "  <thead>\n",
       "    <tr style=\"text-align: right;\">\n",
       "      <th></th>\n",
       "      <th>OrderDate</th>\n",
       "      <th>Region</th>\n",
       "      <th>City</th>\n",
       "      <th>Category</th>\n",
       "      <th>Product</th>\n",
       "      <th>Quantity</th>\n",
       "      <th>UnitPrice</th>\n",
       "      <th>Total_sales</th>\n",
       "      <th>Month</th>\n",
       "      <th>weekday</th>\n",
       "      <th>day</th>\n",
       "    </tr>\n",
       "  </thead>\n",
       "  <tbody>\n",
       "    <tr>\n",
       "      <th>0</th>\n",
       "      <td>2020-01-01</td>\n",
       "      <td>East</td>\n",
       "      <td>Boston</td>\n",
       "      <td>Bars</td>\n",
       "      <td>Carrot</td>\n",
       "      <td>33</td>\n",
       "      <td>1.77</td>\n",
       "      <td>58.41</td>\n",
       "      <td>1</td>\n",
       "      <td>Wednesday</td>\n",
       "      <td>1</td>\n",
       "    </tr>\n",
       "    <tr>\n",
       "      <th>1</th>\n",
       "      <td>2020-01-04</td>\n",
       "      <td>East</td>\n",
       "      <td>Boston</td>\n",
       "      <td>Crackers</td>\n",
       "      <td>Whole Wheat</td>\n",
       "      <td>87</td>\n",
       "      <td>3.49</td>\n",
       "      <td>303.63</td>\n",
       "      <td>1</td>\n",
       "      <td>Saturday</td>\n",
       "      <td>4</td>\n",
       "    </tr>\n",
       "    <tr>\n",
       "      <th>2</th>\n",
       "      <td>2020-01-07</td>\n",
       "      <td>West</td>\n",
       "      <td>Los Angeles</td>\n",
       "      <td>Cookies</td>\n",
       "      <td>Chocolate Chip</td>\n",
       "      <td>58</td>\n",
       "      <td>1.87</td>\n",
       "      <td>108.46</td>\n",
       "      <td>1</td>\n",
       "      <td>Tuesday</td>\n",
       "      <td>7</td>\n",
       "    </tr>\n",
       "    <tr>\n",
       "      <th>3</th>\n",
       "      <td>2020-01-10</td>\n",
       "      <td>East</td>\n",
       "      <td>New York</td>\n",
       "      <td>Cookies</td>\n",
       "      <td>Chocolate Chip</td>\n",
       "      <td>82</td>\n",
       "      <td>1.87</td>\n",
       "      <td>153.34</td>\n",
       "      <td>1</td>\n",
       "      <td>Friday</td>\n",
       "      <td>10</td>\n",
       "    </tr>\n",
       "    <tr>\n",
       "      <th>4</th>\n",
       "      <td>2020-01-13</td>\n",
       "      <td>East</td>\n",
       "      <td>Boston</td>\n",
       "      <td>Cookies</td>\n",
       "      <td>Arrowroot</td>\n",
       "      <td>38</td>\n",
       "      <td>2.18</td>\n",
       "      <td>82.84</td>\n",
       "      <td>1</td>\n",
       "      <td>Monday</td>\n",
       "      <td>13</td>\n",
       "    </tr>\n",
       "    <tr>\n",
       "      <th>...</th>\n",
       "      <td>...</td>\n",
       "      <td>...</td>\n",
       "      <td>...</td>\n",
       "      <td>...</td>\n",
       "      <td>...</td>\n",
       "      <td>...</td>\n",
       "      <td>...</td>\n",
       "      <td>...</td>\n",
       "      <td>...</td>\n",
       "      <td>...</td>\n",
       "      <td>...</td>\n",
       "    </tr>\n",
       "    <tr>\n",
       "      <th>239</th>\n",
       "      <td>2021-12-18</td>\n",
       "      <td>East</td>\n",
       "      <td>Boston</td>\n",
       "      <td>Cookies</td>\n",
       "      <td>Arrowroot</td>\n",
       "      <td>34</td>\n",
       "      <td>2.18</td>\n",
       "      <td>74.12</td>\n",
       "      <td>12</td>\n",
       "      <td>Saturday</td>\n",
       "      <td>18</td>\n",
       "    </tr>\n",
       "    <tr>\n",
       "      <th>240</th>\n",
       "      <td>2021-12-21</td>\n",
       "      <td>East</td>\n",
       "      <td>Boston</td>\n",
       "      <td>Cookies</td>\n",
       "      <td>Chocolate Chip</td>\n",
       "      <td>245</td>\n",
       "      <td>1.87</td>\n",
       "      <td>458.15</td>\n",
       "      <td>12</td>\n",
       "      <td>Tuesday</td>\n",
       "      <td>21</td>\n",
       "    </tr>\n",
       "    <tr>\n",
       "      <th>241</th>\n",
       "      <td>2021-12-24</td>\n",
       "      <td>East</td>\n",
       "      <td>Boston</td>\n",
       "      <td>Crackers</td>\n",
       "      <td>Whole Wheat</td>\n",
       "      <td>30</td>\n",
       "      <td>3.49</td>\n",
       "      <td>104.70</td>\n",
       "      <td>12</td>\n",
       "      <td>Friday</td>\n",
       "      <td>24</td>\n",
       "    </tr>\n",
       "    <tr>\n",
       "      <th>242</th>\n",
       "      <td>2021-12-27</td>\n",
       "      <td>West</td>\n",
       "      <td>Los Angeles</td>\n",
       "      <td>Bars</td>\n",
       "      <td>Bran</td>\n",
       "      <td>30</td>\n",
       "      <td>1.87</td>\n",
       "      <td>56.10</td>\n",
       "      <td>12</td>\n",
       "      <td>Monday</td>\n",
       "      <td>27</td>\n",
       "    </tr>\n",
       "    <tr>\n",
       "      <th>243</th>\n",
       "      <td>2021-12-30</td>\n",
       "      <td>West</td>\n",
       "      <td>Los Angeles</td>\n",
       "      <td>Cookies</td>\n",
       "      <td>Oatmeal Raisin</td>\n",
       "      <td>44</td>\n",
       "      <td>2.84</td>\n",
       "      <td>124.96</td>\n",
       "      <td>12</td>\n",
       "      <td>Thursday</td>\n",
       "      <td>30</td>\n",
       "    </tr>\n",
       "  </tbody>\n",
       "</table>\n",
       "<p>244 rows × 11 columns</p>\n",
       "</div>"
      ],
      "text/plain": [
       "     OrderDate Region         City  Category         Product  Quantity  \\\n",
       "0   2020-01-01   East       Boston      Bars          Carrot        33   \n",
       "1   2020-01-04   East       Boston  Crackers     Whole Wheat        87   \n",
       "2   2020-01-07   West  Los Angeles   Cookies  Chocolate Chip        58   \n",
       "3   2020-01-10   East     New York   Cookies  Chocolate Chip        82   \n",
       "4   2020-01-13   East       Boston   Cookies       Arrowroot        38   \n",
       "..         ...    ...          ...       ...             ...       ...   \n",
       "239 2021-12-18   East       Boston   Cookies       Arrowroot        34   \n",
       "240 2021-12-21   East       Boston   Cookies  Chocolate Chip       245   \n",
       "241 2021-12-24   East       Boston  Crackers     Whole Wheat        30   \n",
       "242 2021-12-27   West  Los Angeles      Bars            Bran        30   \n",
       "243 2021-12-30   West  Los Angeles   Cookies  Oatmeal Raisin        44   \n",
       "\n",
       "     UnitPrice  Total_sales  Month    weekday  day  \n",
       "0         1.77        58.41      1  Wednesday    1  \n",
       "1         3.49       303.63      1   Saturday    4  \n",
       "2         1.87       108.46      1    Tuesday    7  \n",
       "3         1.87       153.34      1     Friday   10  \n",
       "4         2.18        82.84      1     Monday   13  \n",
       "..         ...          ...    ...        ...  ...  \n",
       "239       2.18        74.12     12   Saturday   18  \n",
       "240       1.87       458.15     12    Tuesday   21  \n",
       "241       3.49       104.70     12     Friday   24  \n",
       "242       1.87        56.10     12     Monday   27  \n",
       "243       2.84       124.96     12   Thursday   30  \n",
       "\n",
       "[244 rows x 11 columns]"
      ]
     },
     "execution_count": 10,
     "metadata": {},
     "output_type": "execute_result"
    }
   ],
   "source": [
    "# extract Month, weekday and day \n",
    "df['Month'] = df['OrderDate'].dt.month\n",
    "df['weekday'] = df['OrderDate'].dt.day_name()\n",
    "df['day'] = df['OrderDate'].dt.day\n",
    "\n",
    "#Viewing the new column\n",
    "df"
   ]
  },
  {
   "cell_type": "markdown",
   "id": "23e7246c",
   "metadata": {},
   "source": [
    "## Data Cleaning and Feature Engineering"
   ]
  },
  {
   "cell_type": "code",
   "execution_count": 11,
   "id": "4da81eb5",
   "metadata": {},
   "outputs": [],
   "source": [
    "# Remove duplicate rows\n",
    "df = df.drop_duplicates()\n",
    "\n",
    "# Normalize text fields\n",
    "df['Region'] = df['Region'].str.strip().str.lower()\n",
    "df['City'] = df['City'].str.strip().str.lower()\n",
    "df['Category'] = df['Category'].str.strip().str.lower()\n",
    "df['Product'] = df['Product'].str.strip().str.lower()\n"
   ]
  },
  {
   "cell_type": "markdown",
   "id": "de1bce5f",
   "metadata": {},
   "source": [
    "## Exploratory Data Analysis (EDA)"
   ]
  },
  {
   "cell_type": "code",
   "execution_count": 12,
   "id": "a5529ebc",
   "metadata": {},
   "outputs": [],
   "source": [
    "# Group Total sales by product, region,Category and city for visualization\n",
    "\n",
    "region_sales = df.groupby('Region')['Total_sales'].sum()\n",
    "city_sales = df.groupby('City')['Total_sales'].sum()\n",
    "\n",
    "# Trends over time\n",
    "Monthly_sales = df.groupby('Month')['Total_sales'].sum()"
   ]
  },
  {
   "cell_type": "code",
   "execution_count": 13,
   "id": "2203edfd",
   "metadata": {},
   "outputs": [
    {
     "data": {
      "image/png": "[encoded data removed]",
      "text/plain": [
       "<Figure size 432x288 with 1 Axes>"
      ]
     },
     "metadata": {
      "needs_background": "light"
     },
     "output_type": "display_data"
    },
    {
     "data": {
      "text/plain": [
       "Region\n",
       "west    11801.22\n",
       "east    21524.36\n",
       "Name: Total_sales, dtype: float64"
      ]
     },
     "execution_count": 13,
     "metadata": {},
     "output_type": "execute_result"
    }
   ],
   "source": [
    "# visualising sales by region\n",
    "\n",
    "region_sales.plot(kind = \"bar\", title = \"Region Sales\")\n",
    "plt.show()\n",
    "\n",
    "region_sales.sort_values(ascending = True)"
   ]
  },
  {
   "cell_type": "code",
   "execution_count": null,
   "id": "b8bd9cc5",
   "metadata": {},
   "outputs": [],
   "source": []
  },
  {
   "cell_type": "code",
   "execution_count": 14,
   "id": "720ba1c7",
   "metadata": {},
   "outputs": [
    {
     "data": {
      "image/png": "[encoded data removed]",
      "text/plain": [
       "<Figure size 720x360 with 1 Axes>"
      ]
     },
     "metadata": {
      "needs_background": "light"
     },
     "output_type": "display_data"
    },
    {
     "data": {
      "text/plain": [
       "City\n",
       "boston         13265.53\n",
       "los angeles     7687.32\n",
       "new york        8258.83\n",
       "san diego       4113.90\n",
       "Name: Total_sales, dtype: float64"
      ]
     },
     "execution_count": 14,
     "metadata": {},
     "output_type": "execute_result"
    }
   ],
   "source": [
    "# visualising sales by city\n",
    "\n",
    "city_sales.plot(kind = \"bar\", figsize = (10,5), title = \"City Sales\")\n",
    "plt.ylabel(\"Total Sales\")\n",
    "plt.show()\n",
    "\n",
    "city_sales"
   ]
  },
  {
   "cell_type": "code",
   "execution_count": 15,
   "id": "c71b63a0",
   "metadata": {},
   "outputs": [
    {
     "data": {
      "image/png": "[encoded data removed]",
      "text/plain": [
       "<Figure size 720x360 with 1 Axes>"
      ]
     },
     "metadata": {
      "needs_background": "light"
     },
     "output_type": "display_data"
    },
    {
     "data": {
      "text/plain": [
       "Month\n",
       "1     2941.11\n",
       "2     2051.46\n",
       "3     3052.55\n",
       "4     2588.76\n",
       "5     2634.41\n",
       "6     3428.23\n",
       "7     2112.52\n",
       "8     2705.94\n",
       "9     2349.72\n",
       "10    3045.78\n",
       "11    3290.86\n",
       "12    3124.24\n",
       "Name: Total_sales, dtype: float64"
      ]
     },
     "execution_count": 15,
     "metadata": {},
     "output_type": "execute_result"
    }
   ],
   "source": [
    "# visualising trends over time\n",
    "\n",
    "Monthly_sales.plot(kind = \"line\", figsize = (10, 5), title = \"Monthly Sales/Trends\", marker = \"o\")\n",
    "plt.ylabel(\"Total Sales\")\n",
    "plt.show()\n",
    "\n",
    "Monthly_sales"
   ]
  },
  {
   "cell_type": "markdown",
   "id": "02e51b56",
   "metadata": {},
   "source": [
    "## Data Preprocessing for Regression\n",
    "\n"
   ]
  },
  {
   "cell_type": "code",
   "execution_count": 16,
   "id": "c219e7bf",
   "metadata": {},
   "outputs": [],
   "source": [
    "# importing libraries for buiding model\n",
    "\n",
    "from sklearn.model_selection import train_test_split\n",
    "from sklearn.linear_model import LinearRegression\n",
    "from sklearn.preprocessing import OneHotEncoder\n",
    "from sklearn.compose import ColumnTransformer\n",
    "from sklearn.pipeline import Pipeline\n",
    "from sklearn.metrics import r2_score, mean_absolute_error, mean_squared_error\n",
    "\n",
    "# duplicating dataframe\n",
    "dm = df.copy()\n",
    "\n",
    "# Select features and target\n",
    "features = dm[['Region', 'City', 'Category', 'Product', 'Quantity', 'UnitPrice']]\n",
    "target = dm['Total_sales']\n",
    "\n",
    "# Define categorical and numeric columns\n",
    "categorical_cols = ['Region', 'City', 'Category', 'Product']\n",
    "numeric_cols = ['Quantity', 'UnitPrice']\n",
    "\n",
    "# Column transformer for encoding\n",
    "preprocessor = ColumnTransformer(\n",
    "    transformers=[\n",
    "        ('cat', OneHotEncoder(handle_unknown='ignore'), categorical_cols),\n",
    "        ('num', 'passthrough', numeric_cols)\n",
    "    ])\n",
    "\n",
    "\n",
    "# Create pipeline\n",
    "model = Pipeline(steps=[\n",
    "    ('preprocessor', preprocessor),\n",
    "    ('regressor', LinearRegression())\n",
    "])\n",
    "\n",
    "# Train-test split\n",
    "X_train, X_test, y_train, y_test = train_test_split(features, target, test_size=0.2, random_state=42)\n",
    "\n",
    "# Train the model\n",
    "model.fit(X_train, y_train)\n",
    "\n",
    "\n",
    "# Predict\n",
    "y_pred = model.predict(X_test)\n"
   ]
  },
  {
   "cell_type": "code",
   "execution_count": 17,
   "id": "99e8bb83",
   "metadata": {},
   "outputs": [
    {
     "data": {
      "image/png": "[encoded data removed]",
      "text/plain": [
       "<Figure size 576x432 with 1 Axes>"
      ]
     },
     "metadata": {
      "needs_background": "light"
     },
     "output_type": "display_data"
    }
   ],
   "source": [
    "# Actual vs Predicted\n",
    "\n",
    "plt.figure(figsize=(8, 6))\n",
    "plt.scatter(y_test, y_pred, alpha=0.5, color='gray')\n",
    "plt.plot([y_test.min(), y_test.max()], [y_test.min(), y_test.max()], 'r--')\n",
    "plt.title('Actual vs Predicted Total Sales')\n",
    "plt.xlabel('Actual Sales')\n",
    "plt.ylabel('Predicted Sales')\n",
    "plt.grid(True)\n",
    "plt.show()\n"
   ]
  },
  {
   "cell_type": "markdown",
   "id": "53724654",
   "metadata": {},
   "source": [
    "## Visualizations/Evaluations on model\n"
   ]
  },
  {
   "cell_type": "code",
   "execution_count": 18,
   "id": "f5fb15e5",
   "metadata": {},
   "outputs": [
    {
     "name": "stdout",
     "output_type": "stream",
     "text": [
      "R² Score: 0.91\n",
      "MAE: ₦14.11\n",
      "RMSE: ₦27.35\n"
     ]
    }
   ],
   "source": [
    "# R² Score\n",
    "r2 = r2_score(y_test, y_pred)\n",
    "\n",
    "# Mean Absolute Error\n",
    "mae = mean_absolute_error(y_test, y_pred)\n",
    "\n",
    "# Root Mean Squared Error\n",
    "rmse = np.sqrt(mean_squared_error(y_test, y_pred))\n",
    "\n",
    "print(f\"R² Score: {r2:.2f}\")\n",
    "print(f\"MAE: ₦{mae:.2f}\")\n",
    "print(f\"RMSE: ₦{rmse:.2f}\")"
   ]
  },
  {
   "cell_type": "code",
   "execution_count": 19,
   "id": "6b61a4d8",
   "metadata": {},
   "outputs": [
    {
     "data": {
      "image/png": "[encoded data removed]",
      "text/plain": [
       "<Figure size 576x360 with 1 Axes>"
      ]
     },
     "metadata": {
      "needs_background": "light"
     },
     "output_type": "display_data"
    }
   ],
   "source": [
    "# Calculate how well the model predict total sales\n",
    "perf_errors = y_test - y_pred\n",
    "\n",
    "# Plot the histogram of residuals\n",
    "plt.figure(figsize=(8, 5))\n",
    "sns.histplot(perf_errors, bins=30, kde=True, color='blue')\n",
    "plt.title('Distribution of Prediction Errors (perf_errors)')\n",
    "plt.xlabel('Error (Actual - Predicted)')\n",
    "plt.ylabel('Frequency')\n",
    "plt.grid(True)\n",
    "plt.show()"
   ]
  },
  {
   "cell_type": "code",
   "execution_count": 20,
   "id": "ec6a02cf",
   "metadata": {},
   "outputs": [
    {
     "data": {
      "text/html": [
       "<div>\n",
       "<style scoped>\n",
       "    .dataframe tbody tr th:only-of-type {\n",
       "        vertical-align: middle;\n",
       "    }\n",
       "\n",
       "    .dataframe tbody tr th {\n",
       "        vertical-align: top;\n",
       "    }\n",
       "\n",
       "    .dataframe thead th {\n",
       "        text-align: right;\n",
       "    }\n",
       "</style>\n",
       "<table border=\"1\" class=\"dataframe\">\n",
       "  <thead>\n",
       "    <tr style=\"text-align: right;\">\n",
       "      <th></th>\n",
       "      <th>Feature</th>\n",
       "      <th>Coefficient</th>\n",
       "      <th>AbsCoefficient</th>\n",
       "    </tr>\n",
       "  </thead>\n",
       "  <tbody>\n",
       "    <tr>\n",
       "      <th>15</th>\n",
       "      <td>Product_oatmeal raisin</td>\n",
       "      <td>36.525163</td>\n",
       "      <td>36.525163</td>\n",
       "    </tr>\n",
       "    <tr>\n",
       "      <th>20</th>\n",
       "      <td>UnitPrice</td>\n",
       "      <td>30.413014</td>\n",
       "      <td>30.413014</td>\n",
       "    </tr>\n",
       "    <tr>\n",
       "      <th>14</th>\n",
       "      <td>Product_chocolate chip</td>\n",
       "      <td>-19.690142</td>\n",
       "      <td>19.690142</td>\n",
       "    </tr>\n",
       "    <tr>\n",
       "      <th>7</th>\n",
       "      <td>Category_cookies</td>\n",
       "      <td>9.843115</td>\n",
       "      <td>9.843115</td>\n",
       "    </tr>\n",
       "    <tr>\n",
       "      <th>10</th>\n",
       "      <td>Product_arrowroot</td>\n",
       "      <td>-6.991906</td>\n",
       "      <td>6.991906</td>\n",
       "    </tr>\n",
       "    <tr>\n",
       "      <th>13</th>\n",
       "      <td>Product_carrot</td>\n",
       "      <td>-6.638655</td>\n",
       "      <td>6.638655</td>\n",
       "    </tr>\n",
       "    <tr>\n",
       "      <th>6</th>\n",
       "      <td>Category_bars</td>\n",
       "      <td>-5.798443</td>\n",
       "      <td>5.798443</td>\n",
       "    </tr>\n",
       "    <tr>\n",
       "      <th>9</th>\n",
       "      <td>Category_snacks</td>\n",
       "      <td>-5.202603</td>\n",
       "      <td>5.202603</td>\n",
       "    </tr>\n",
       "    <tr>\n",
       "      <th>17</th>\n",
       "      <td>Product_pretzels</td>\n",
       "      <td>-4.680086</td>\n",
       "      <td>4.680086</td>\n",
       "    </tr>\n",
       "    <tr>\n",
       "      <th>2</th>\n",
       "      <td>City_boston</td>\n",
       "      <td>3.441070</td>\n",
       "      <td>3.441070</td>\n",
       "    </tr>\n",
       "  </tbody>\n",
       "</table>\n",
       "</div>"
      ],
      "text/plain": [
       "                   Feature  Coefficient  AbsCoefficient\n",
       "15  Product_oatmeal raisin    36.525163       36.525163\n",
       "20               UnitPrice    30.413014       30.413014\n",
       "14  Product_chocolate chip   -19.690142       19.690142\n",
       "7         Category_cookies     9.843115        9.843115\n",
       "10       Product_arrowroot    -6.991906        6.991906\n",
       "13          Product_carrot    -6.638655        6.638655\n",
       "6            Category_bars    -5.798443        5.798443\n",
       "9          Category_snacks    -5.202603        5.202603\n",
       "17        Product_pretzels    -4.680086        4.680086\n",
       "2              City_boston     3.441070        3.441070"
      ]
     },
     "execution_count": 20,
     "metadata": {},
     "output_type": "execute_result"
    }
   ],
   "source": [
    "# Get feature names after encoding\n",
    "encoder = model.named_steps['preprocessor'].named_transformers_['cat']\n",
    "encoded_feature_names = encoder.get_feature_names_out(categorical_cols)\n",
    "all_feature_names = list(encoded_feature_names) + numeric_cols\n",
    "\n",
    "# Extract coefficients\n",
    "coefficients = model.named_steps['regressor'].coef_\n",
    "\n",
    "# Create dataframe of features and coefficients\n",
    "importance_dm = pd.DataFrame({\n",
    "    'Feature': all_feature_names,\n",
    "    'Coefficient': coefficients\n",
    "})\n",
    "\n",
    "# Sort by absolute importance\n",
    "importance_dm['AbsCoefficient'] = importance_dm['Coefficient'].abs()\n",
    "importance_dm = importance_dm.sort_values('AbsCoefficient', ascending=False)\n",
    "importance_dm.head(10)"
   ]
  },
  {
   "cell_type": "code",
   "execution_count": 21,
   "id": "8f9c2e82",
   "metadata": {},
   "outputs": [
    {
     "data": {
      "image/png": "[encoded data removed]",
      "text/plain": [
       "<Figure size 720x432 with 1 Axes>"
      ]
     },
     "metadata": {
      "needs_background": "light"
     },
     "output_type": "display_data"
    }
   ],
   "source": [
    "# visualising features most important in predicting sales\n",
    "\n",
    "plt.figure(figsize=(10, 6))\n",
    "sns.barplot(x='AbsCoefficient', y='Feature', data=importance_dm.head(10), palette='coolwarm')\n",
    "plt.title('Top 10 Most Important Features')\n",
    "plt.xlabel('Coefficient Magnitude')\n",
    "plt.ylabel('Feature')\n",
    "plt.tight_layout()\n",
    "plt.show()\n"
   ]
  },
  {
   "cell_type": "code",
   "execution_count": 22,
   "id": "1a60eafc",
   "metadata": {},
   "outputs": [
    {
     "data": {
      "text/html": [
       "<div>\n",
       "<style scoped>\n",
       "    .dataframe tbody tr th:only-of-type {\n",
       "        vertical-align: middle;\n",
       "    }\n",
       "\n",
       "    .dataframe tbody tr th {\n",
       "        vertical-align: top;\n",
       "    }\n",
       "\n",
       "    .dataframe thead th {\n",
       "        text-align: right;\n",
       "    }\n",
       "</style>\n",
       "<table border=\"1\" class=\"dataframe\">\n",
       "  <thead>\n",
       "    <tr style=\"text-align: right;\">\n",
       "      <th></th>\n",
       "      <th>OrderDate</th>\n",
       "      <th>Region</th>\n",
       "      <th>City</th>\n",
       "      <th>Category</th>\n",
       "      <th>Product</th>\n",
       "      <th>Quantity</th>\n",
       "      <th>UnitPrice</th>\n",
       "      <th>Total_sales</th>\n",
       "      <th>Month</th>\n",
       "      <th>weekday</th>\n",
       "      <th>day</th>\n",
       "    </tr>\n",
       "  </thead>\n",
       "  <tbody>\n",
       "    <tr>\n",
       "      <th>0</th>\n",
       "      <td>2020-01-01</td>\n",
       "      <td>east</td>\n",
       "      <td>boston</td>\n",
       "      <td>bars</td>\n",
       "      <td>carrot</td>\n",
       "      <td>33</td>\n",
       "      <td>1.77</td>\n",
       "      <td>58.41</td>\n",
       "      <td>1</td>\n",
       "      <td>Wednesday</td>\n",
       "      <td>1</td>\n",
       "    </tr>\n",
       "    <tr>\n",
       "      <th>1</th>\n",
       "      <td>2020-01-04</td>\n",
       "      <td>east</td>\n",
       "      <td>boston</td>\n",
       "      <td>crackers</td>\n",
       "      <td>whole wheat</td>\n",
       "      <td>87</td>\n",
       "      <td>3.49</td>\n",
       "      <td>303.63</td>\n",
       "      <td>1</td>\n",
       "      <td>Saturday</td>\n",
       "      <td>4</td>\n",
       "    </tr>\n",
       "    <tr>\n",
       "      <th>2</th>\n",
       "      <td>2020-01-07</td>\n",
       "      <td>west</td>\n",
       "      <td>los angeles</td>\n",
       "      <td>cookies</td>\n",
       "      <td>chocolate chip</td>\n",
       "      <td>58</td>\n",
       "      <td>1.87</td>\n",
       "      <td>108.46</td>\n",
       "      <td>1</td>\n",
       "      <td>Tuesday</td>\n",
       "      <td>7</td>\n",
       "    </tr>\n",
       "    <tr>\n",
       "      <th>3</th>\n",
       "      <td>2020-01-10</td>\n",
       "      <td>east</td>\n",
       "      <td>new york</td>\n",
       "      <td>cookies</td>\n",
       "      <td>chocolate chip</td>\n",
       "      <td>82</td>\n",
       "      <td>1.87</td>\n",
       "      <td>153.34</td>\n",
       "      <td>1</td>\n",
       "      <td>Friday</td>\n",
       "      <td>10</td>\n",
       "    </tr>\n",
       "    <tr>\n",
       "      <th>4</th>\n",
       "      <td>2020-01-13</td>\n",
       "      <td>east</td>\n",
       "      <td>boston</td>\n",
       "      <td>cookies</td>\n",
       "      <td>arrowroot</td>\n",
       "      <td>38</td>\n",
       "      <td>2.18</td>\n",
       "      <td>82.84</td>\n",
       "      <td>1</td>\n",
       "      <td>Monday</td>\n",
       "      <td>13</td>\n",
       "    </tr>\n",
       "  </tbody>\n",
       "</table>\n",
       "</div>"
      ],
      "text/plain": [
       "   OrderDate Region         City  Category         Product  Quantity  \\\n",
       "0 2020-01-01   east       boston      bars          carrot        33   \n",
       "1 2020-01-04   east       boston  crackers     whole wheat        87   \n",
       "2 2020-01-07   west  los angeles   cookies  chocolate chip        58   \n",
       "3 2020-01-10   east     new york   cookies  chocolate chip        82   \n",
       "4 2020-01-13   east       boston   cookies       arrowroot        38   \n",
       "\n",
       "   UnitPrice  Total_sales  Month    weekday  day  \n",
       "0       1.77        58.41      1  Wednesday    1  \n",
       "1       3.49       303.63      1   Saturday    4  \n",
       "2       1.87       108.46      1    Tuesday    7  \n",
       "3       1.87       153.34      1     Friday   10  \n",
       "4       2.18        82.84      1     Monday   13  "
      ]
     },
     "execution_count": 22,
     "metadata": {},
     "output_type": "execute_result"
    }
   ],
   "source": [
    "dm.head()"
   ]
  },
  {
   "cell_type": "code",
   "execution_count": 23,
   "id": "9f83568c",
   "metadata": {},
   "outputs": [],
   "source": [
    "# Save cleaned dataset\n",
    "dm.to_excel(\"Cleaned_FoodSales.xlsx\", index=False)"
   ]
  },
  {
   "cell_type": "code",
   "execution_count": 24,
   "id": "a91cd6da",
   "metadata": {},
   "outputs": [
    {
     "data": {
      "text/html": [
       "<a href='Cleaned_FoodSales.xlsx' target='_blank'>Cleaned_FoodSales.xlsx</a><br>"
      ],
      "text/plain": [
       "C:\\Users\\DELL\\Cleaned_FoodSales.xlsx"
      ]
     },
     "execution_count": 24,
     "metadata": {},
     "output_type": "execute_result"
    }
   ],
   "source": [
    "from IPython.display import FileLink\n",
    "FileLink(\"Cleaned_FoodSales.xlsx\")"
   ]
  },
  {
   "cell_type": "code",
   "execution_count": 25,
   "id": "349c564b",
   "metadata": {},
   "outputs": [
    {
     "data": {
      "text/html": [
       "<a href='Actual_vs_Predicted_Sales.xlsx' target='_blank'>Actual_vs_Predicted_Sales.xlsx</a><br>"
      ],
      "text/plain": [
       "C:\\Users\\DELL\\Actual_vs_Predicted_Sales.xlsx"
      ]
     },
     "execution_count": 25,
     "metadata": {},
     "output_type": "execute_result"
    }
   ],
   "source": [
    "# Reconstruct the test set with predictions\n",
    "X_test_copy = X_test.copy()\n",
    "X_test_copy['ActualSales'] = y_test.values\n",
    "X_test_copy['PredictedSales'] = y_pred\n",
    "\n",
    "# Save actual vs predicted\n",
    "X_test_copy.to_excel(\"Actual_vs_Predicted_Sales.xlsx\", index=False)\n",
    "\n",
    "# Generate a download link\n",
    "FileLink(\"Actual_vs_Predicted_Sales.xlsx\")"
   ]
  },
  {
   "cell_type": "code",
   "execution_count": 26,
   "id": "75d6558d",
   "metadata": {},
   "outputs": [
    {
     "data": {
      "text/html": [
       "<a href='Actual_vs_Predicted_Sales.xlsx' target='_blank'>Actual_vs_Predicted_Sales.xlsx</a><br>"
      ],
      "text/plain": [
       "C:\\Users\\DELL\\Actual_vs_Predicted_Sales.xlsx"
      ]
     },
     "execution_count": 26,
     "metadata": {},
     "output_type": "execute_result"
    }
   ],
   "source": [
    "# Generate a download link\n",
    "FileLink(\"Actual_vs_Predicted_Sales.xlsx\")"
   ]
  },
  {
   "cell_type": "code",
   "execution_count": 27,
   "id": "03afcd9b",
   "metadata": {},
   "outputs": [
    {
     "name": "stdout",
     "output_type": "stream",
     "text": [
      "Current notebook path: C:\\Users\\DELL\n"
     ]
    }
   ],
   "source": [
    "import os\n",
    "\n",
    "# Get current working directory\n",
    "notebook_path = os.getcwd()\n",
    "print(\"Current notebook path:\", notebook_path)\n"
   ]
  },
  {
   "cell_type": "code",
   "execution_count": 28,
   "id": "3a26118e",
   "metadata": {},
   "outputs": [
    {
     "name": "stdout",
     "output_type": "stream",
     "text": [
      "Files in directory:\n",
      "['.conda', '.condarc', '.continuum', '.docker', '.gitconfig', '.ipynb_checkpoints', '.ipython', '.jupyter', '.matplotlib', '.ms-ad', '.python_history', '.spyder-py3', '3D Objects', 'Actual_vs_Predicted_Sales.xlsx', 'AI and ML Project.ipynb', 'anaconda3', 'AppData', 'Application Data', 'Cleaned_FoodSales.xlsx', 'Contacts', 'Cookies', 'Documents', 'Downloads', 'Favorites', 'IntelGraphicsProfiles', 'Investigate_a_Dataset (2).html', 'Links', 'Local Settings', 'Marital Survey.ipynb', 'Microsoft', 'Music', 'My Documents', 'My Regression Model .ipynb', 'NetHood', 'NOTE.ipynb', 'NTUSER.DAT', 'ntuser.dat.LOG1', 'ntuser.dat.LOG2', 'NTUSER.DAT{545f8ecb-9fb7-11ec-9f68-78e4008918d9}.TM.blf', 'NTUSER.DAT{545f8ecb-9fb7-11ec-9f68-78e4008918d9}.TMContainer00000000000000000001.regtrans-ms', 'NTUSER.DAT{545f8ecb-9fb7-11ec-9f68-78e4008918d9}.TMContainer00000000000000000002.regtrans-ms', 'ntuser.ini', 'OneDrive', 'PrintHood', 'Recent', 'Regression_Model.ipynb', 'Saved Games', 'Searches', 'SendTo', 'Start Menu', 'Store Data.ipynb', 'Templates', 'Untitled Folder', 'Untitled.ipynb', 'Untitled1.ipynb', 'Untitled2.ipynb', 'Untitled3.ipynb', 'Untitled4.ipynb', 'Untitled5.ipynb', 'Untitled6.ipynb', 'Untitled7.ipynb', 'Videos', 'Week 4 ML.ipynb', 'Week1 ML.ipynb', 'Week2 ML.ipynb', 'Week_3 ML.ipynb']\n"
     ]
    }
   ],
   "source": [
    "print(\"Files in directory:\")\n",
    "print(os.listdir())"
   ]
  }
 ],
 "metadata": {
  "kernelspec": {
   "display_name": "Python 3 (ipykernel)",
   "language": "python",
   "name": "python3"
  },
  "language_info": {
   "codemirror_mode": {
    "name": "ipython",
    "version": 3
   },
   "file_extension": ".py",
   "mimetype": "text/x-python",
   "name": "python",
   "nbconvert_exporter": "python",
   "pygments_lexer": "ipython3",
   "version": "3.9.12"
  }
 },
 "nbformat": 4,
 "nbformat_minor": 5
}
